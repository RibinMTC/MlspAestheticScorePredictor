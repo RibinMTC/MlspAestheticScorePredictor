{
 "cells": [
  {
   "cell_type": "markdown",
   "metadata": {},
   "source": [
    "### Init"
   ]
  },
  {
   "cell_type": "code",
   "execution_count": null,
   "metadata": {},
   "outputs": [],
   "source": [
    "import kutils\n",
    "from kutils import model_helper as mh\n",
    "from kutils import applications as apps\n",
    "from kutils import tensor_ops as ops\n",
    "from kutils import generic as gen\n",
    "from kutils import image_utils as img"
   ]
  },
  {
   "cell_type": "code",
   "execution_count": null,
   "metadata": {
    "collapsed": true
   },
   "outputs": [],
   "source": [
    "import pandas as pd, numpy as np, os\n",
    "root_path = '/mnt/home/research/ava-mlsp/'\n",
    "dataset = root_path + 'metadata/AVA_data_official_test.csv';\n",
    "images_path = root_path + 'images/'\n",
    "ids = pd.read_csv(dataset)"
   ]
  },
  {
   "cell_type": "markdown",
   "metadata": {},
   "source": [
    "### Load combined model"
   ]
  },
  {
   "cell_type": "code",
   "execution_count": null,
   "metadata": {},
   "outputs": [],
   "source": [
    "# load base model\n",
    "model_name = 'mlsp_wide_orig'\n",
    "input_shape = (None, None, 3)\n",
    "model_base = apps.model_inceptionresnet_pooled(input_shape)\n",
    "pre   = apps.process_input[apps.InceptionResNetV2]\n",
    "\n",
    "# MODEL DEF\n",
    "from keras.layers import Input, GlobalAveragePooling2D\n",
    "from keras.models import Model\n",
    "\n",
    "input_feats = Input(shape=(5,5,16928), dtype='float32')\n",
    "x = apps.inception_block(input_feats, size=1024)\n",
    "x = GlobalAveragePooling2D(name='final_GAP')(x)\n",
    "\n",
    "pred = apps.fc_layers(x, name       = 'head',\n",
    "                      fc_sizes      = [2048, 1024, 256,  1],\n",
    "                      dropout_rates = [0.25, 0.25, 0.5, 0],\n",
    "                      batch_norm    = 2)\n",
    "\n",
    "model = Model(inputs  = input_feats, \n",
    "              outputs = pred)\n",
    "\n",
    "gen_params = dict(batch_size    = 1,\n",
    "                  data_path     = images_path,                  \n",
    "                  process_fn    = pre,\n",
    "                  input_shape   = input_shape,\n",
    "                  inputs        = 'image_name',\n",
    "                  outputs       = 'MOS', \n",
    "                  fixed_batches = False)\n",
    "\n",
    "helper = mh.ModelHelper(model, model_name, ids, \n",
    "                        gen_params = gen_params)\n",
    "\n",
    "# load head model\n",
    "helper.load_model(model_name = root_path + \\\n",
    "                               'models/irnv2_mlsp_wide_orig/model')\n",
    "\n",
    "# join base and head models\n",
    "helper.model = Model(inputs  = model_base.input, \n",
    "                     outputs = model(model_base.output))"
   ]
  },
  {
   "cell_type": "markdown",
   "metadata": {},
   "source": [
    "### Test full model"
   ]
  },
  {
   "cell_type": "code",
   "execution_count": null,
   "metadata": {
    "collapsed": true
   },
   "outputs": [],
   "source": [
    "helper.gen_params.verbose = True\n",
    "_, _, SRCC_test, PLCC_test, ACC_test =\\\n",
    "    apps.test_rating_model(helper, accuracy_thresh = 5, \n",
    "                           ids = ids[ids.set == 'test'])"
   ]
  },
  {
   "cell_type": "markdown",
   "metadata": {},
   "source": [
    "### Predict score of a single image"
   ]
  },
  {
   "cell_type": "code",
   "execution_count": null,
   "metadata": {},
   "outputs": [],
   "source": [
    "# choose an image from the test set\n",
    "image_path = images_path + ids[ids.set == 'test'].iloc[0].image_name\n",
    "\n",
    "# load, pre-process it, and pass it to the model\n",
    "I = pre( img.read_image(image_path) )\n",
    "I = np.expand_dims(I, 0)\n",
    "I_score = helper.model.predict(I)\n",
    "\n",
    "print 'predicted image score:', I_score[0][0]"
   ]
  }
 ],
 "metadata": {
  "kernelspec": {
   "display_name": "Python 2",
   "language": "python",
   "name": "python2"
  },
  "language_info": {
   "codemirror_mode": {
    "name": "ipython",
    "version": 2
   },
   "file_extension": ".py",
   "mimetype": "text/x-python",
   "name": "python",
   "nbconvert_exporter": "python",
   "pygments_lexer": "ipython2",
   "version": "2.7.12"
  }
 },
 "nbformat": 4,
 "nbformat_minor": 2
}
