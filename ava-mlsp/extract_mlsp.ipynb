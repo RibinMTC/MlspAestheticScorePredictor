{
 "cells": [
  {
   "cell_type": "markdown",
   "metadata": {},
   "source": [
    "# Init"
   ]
  },
  {
   "cell_type": "code",
   "execution_count": null,
   "metadata": {
    "scrolled": true
   },
   "outputs": [],
   "source": [
    "import kutils\n",
    "from kutils import applications as apps\n",
    "from kutils import model_helper as mh\n",
    "from kutils import image_utils\n",
    "from kutils import generic\n",
    "import pandas as pd, numpy as np"
   ]
  },
  {
   "cell_type": "code",
   "execution_count": null,
   "metadata": {
    "collapsed": true
   },
   "outputs": [],
   "source": [
    "root_path = '/mnt/home/research/ava-mlsp/'\n",
    "ids = pd.read_csv(root_path + 'metadata/AVA_data_official_test.csv')\n",
    "\n",
    "input_shape = (None, None, 3)\n",
    "features_root = root_path + 'features/'\n",
    "images_path = root_path + 'images/'"
   ]
  },
  {
   "cell_type": "markdown",
   "metadata": {},
   "source": [
    "# Choose and load pretrained model"
   ]
  },
  {
   "cell_type": "markdown",
   "metadata": {},
   "source": [
    "### InceptionV3 MLSP narrow"
   ]
  },
  {
   "cell_type": "code",
   "execution_count": null,
   "metadata": {},
   "outputs": [],
   "source": [
    "model = apps.model_inception_multigap(input_shape)\n",
    "pre = apps.process_input[apps.InceptionV3]\n",
    "model_name = 'iv3_mlsp_narrow'"
   ]
  },
  {
   "cell_type": "markdown",
   "metadata": {},
   "source": [
    "### InceptionV3 MLSP wide"
   ]
  },
  {
   "cell_type": "code",
   "execution_count": null,
   "metadata": {},
   "outputs": [],
   "source": [
    "model = apps.model_inception_pooled(input_shape)\n",
    "pre   = apps.process_input[apps.InceptionV3]\n",
    "model_name = 'iv3_mlsp_wide'"
   ]
  },
  {
   "cell_type": "markdown",
   "metadata": {},
   "source": [
    "### InceptionResNetV2 MLSP narrow"
   ]
  },
  {
   "cell_type": "code",
   "execution_count": null,
   "metadata": {},
   "outputs": [],
   "source": [
    "model = apps.model_inceptionresnet_multigap(input_shape)\n",
    "pre = apps.process_input[apps.InceptionResNetV2]\n",
    "model_name = 'irnv2_mlsp_narrow'"
   ]
  },
  {
   "cell_type": "markdown",
   "metadata": {},
   "source": [
    "### InceptionResNetV2 MLSP wide"
   ]
  },
  {
   "cell_type": "code",
   "execution_count": null,
   "metadata": {},
   "outputs": [],
   "source": [
    "model = apps.model_inceptionresnet_pooled(input_shape)\n",
    "pre   = apps.process_input[apps.InceptionResNetV2]\n",
    "model_name = 'irnv2_mlsp_wide'"
   ]
  },
  {
   "cell_type": "markdown",
   "metadata": {},
   "source": [
    "# Save features"
   ]
  },
  {
   "cell_type": "markdown",
   "metadata": {},
   "source": [
    "### original sized images, no augmentation"
   ]
  },
  {
   "cell_type": "code",
   "execution_count": null,
   "metadata": {},
   "outputs": [],
   "source": [
    "gen_params = dict(batch_size  = 1,\n",
    "                  data_path   = images_path,\n",
    "                  input_shape = ('orig',),\n",
    "                  inputs = ('image_name',),\n",
    "                  process_fn  = pre,\n",
    "                  fixed_batches = False)\n",
    "\n",
    "helper = mh.ModelHelper(model, model_name + '_orig', ids,\n",
    "                    features_root = features_root,\n",
    "                    gen_params    = gen_params)        \n",
    "\n",
    "print 'Saving features'\n",
    "batch_size = 1024\n",
    "numel = len(ids)\n",
    "for i in range(0,numel,batch_size):\n",
    "    istop = min(i+batch_size, numel)\n",
    "    print 'Processing images',i,':',istop\n",
    "    ids_batch = ids[i:istop].reset_index(drop=True)\n",
    "    helper.save_activations(ids=ids_batch, verbose=True,\\\n",
    "                            save_as_type=np.float16)"
   ]
  },
  {
   "cell_type": "markdown",
   "metadata": {},
   "source": [
    "### originals, augmented with flip and crop"
   ]
  },
  {
   "cell_type": "code",
   "execution_count": null,
   "metadata": {},
   "outputs": [],
   "source": [
    "crops = [(i,j) for i in (1,0) for j in (1,0)]\n",
    "flips = (0,1)\n",
    "\n",
    "for i, crop_pos in enumerate(crops):\n",
    "    for doflip in flips:\n",
    "        print 'crop', crop_pos, 'flip' if doflip else ''\n",
    "        process_fn = lambda im: pre(image_utils.ImageAugmenter(im, verbose=False, remap=False).\\\n",
    "                                    crop(0.875, crop_pos).fliplr(doflip).result)\n",
    "        gen_params = dict(batch_size  = 1,\n",
    "                          data_path   = images_path,\n",
    "                          input_shape = ('orig',),\n",
    "                          inputs = ('image_name',), \n",
    "                          process_fn  = process_fn,\n",
    "                          fixed_batches = False)\n",
    "\n",
    "        helper = mh.ModelHelper(model, model_name + '_fc8_orig', ids,\n",
    "                            features_root = features_root,\n",
    "                            gen_params    = gen_params)\n",
    "\n",
    "        print 'Saving features'\n",
    "        batch_size = 1024\n",
    "        numel = len(ids)\n",
    "        for i in range(0,numel,batch_size):\n",
    "            istop = min(i+batch_size, numel)\n",
    "            print 'Processing images',i,':',istop\n",
    "            ids_batch = ids[i:istop].reset_index(drop=True)\n",
    "\n",
    "            helper.save_activations(ids=ids_batch, verbose=False,\\\n",
    "                                    groups=['%g_%g_%d' %(crop_pos+(doflip,))], \n",
    "                                    save_as_type=np.float16, over_write=False)"
   ]
  },
  {
   "cell_type": "code",
   "execution_count": null,
   "metadata": {},
   "outputs": [],
   "source": [
    "# check contents of saved file\n",
    "with generic.H5Helper(features_root + 'irnv2_mlsp_narrow_orig/i1[orig]_lfinal_o1[16928]_r1.h5','r') as h:\n",
    "    print h.summary()"
   ]
  }
 ],
 "metadata": {
  "kernelspec": {
   "display_name": "Python 2",
   "language": "python",
   "name": "python2"
  },
  "language_info": {
   "codemirror_mode": {
    "name": "ipython",
    "version": 2
   },
   "file_extension": ".py",
   "mimetype": "text/x-python",
   "name": "python",
   "nbconvert_exporter": "python",
   "pygments_lexer": "ipython2",
   "version": "2.7.12"
  }
 },
 "nbformat": 4,
 "nbformat_minor": 2
}
